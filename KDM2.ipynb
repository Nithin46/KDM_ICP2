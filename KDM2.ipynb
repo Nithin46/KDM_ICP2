{
  "nbformat": 4,
  "nbformat_minor": 0,
  "metadata": {
    "colab": {
      "name": "KDM2.ipynb",
      "provenance": [],
      "collapsed_sections": [
        "2ctkXyehoc7S",
        "rfZU4iWVq_76",
        "nfxWnLP0oaVP",
        "szxbpXocpdn4",
        "Z_V3oo-wt2_z"
      ],
      "authorship_tag": "ABX9TyNkkOqShGHPZ7HdfoQu89vE",
      "include_colab_link": true
    },
    "kernelspec": {
      "name": "python3",
      "display_name": "Python 3"
    }
  },
  "cells": [
    {
      "cell_type": "markdown",
      "metadata": {
        "id": "view-in-github",
        "colab_type": "text"
      },
      "source": [
        "<a href=\"https://colab.research.google.com/github/Nithin46/KDM_ICP2/blob/main/KDM2.ipynb\" target=\"_parent\"><img src=\"https://colab.research.google.com/assets/colab-badge.svg\" alt=\"Open In Colab\"/></a>"
      ]
    },
    {
      "cell_type": "markdown",
      "metadata": {
        "id": "2ctkXyehoc7S"
      },
      "source": [
        "# **Part of Speech (POS) Tagging**\r\n",
        "\r\n",
        "For this, I had used spaCy library. First, I have imported the required library and then passed the input data. Finally, used word.pos_ & word.tag_ and explain(word.tag_) functions to print the desired output. \r\n",
        "\r\n",
        "*spaCy library comes pre-built with machine learning algorithms that, depending upon the context (surrounding words), it is capable of returning the correct POS tag for the word."
      ]
    },
    {
      "cell_type": "code",
      "metadata": {
        "colab": {
          "base_uri": "https://localhost:8080/"
        },
        "id": "0kM-7GdIn_zH",
        "outputId": "65b3d73b-e077-4841-964d-2709a19ffde0"
      },
      "source": [
        "import spacy\r\n",
        "sp = spacy.load('en_core_web_sm')\r\n",
        "data = sp(\"Xi Jinping is a Chinese politician who has served as General Secretary of the Chinese Communist Party (CCP) and Chairman of the Central Military Commission (CMC) since 2012, and President of the People's Republic of China (PRC) since 2013. He has been the paramount leader of China, the most prominent political leader in the country, since 2012. The son of Chinese Communist veteran Xi Zhongxun, he was exiled to rural Yanchuan County as a teenager following his father's purge during the Cultural Revolution and lived in a cave in the village of Liangjiahe, where he joined the CCP and worked as the party secretary.\")\r\n",
        "for word in data:\r\n",
        "    print(f'{word.text:{12}} {word.pos_:{10}} {word.tag_:{8}} {spacy.explain(word.tag_)}')"
      ],
      "execution_count": null,
      "outputs": [
        {
          "output_type": "stream",
          "text": [
            "Xi           PROPN      NNP      noun, proper singular\n",
            "Jinping      PROPN      NNP      noun, proper singular\n",
            "is           AUX        VBZ      verb, 3rd person singular present\n",
            "a            DET        DT       determiner\n",
            "Chinese      ADJ        JJ       adjective\n",
            "politician   NOUN       NN       noun, singular or mass\n",
            "who          PRON       WP       wh-pronoun, personal\n",
            "has          AUX        VBZ      verb, 3rd person singular present\n",
            "served       VERB       VBN      verb, past participle\n",
            "as           SCONJ      IN       conjunction, subordinating or preposition\n",
            "General      PROPN      NNP      noun, proper singular\n",
            "Secretary    PROPN      NNP      noun, proper singular\n",
            "of           ADP        IN       conjunction, subordinating or preposition\n",
            "the          DET        DT       determiner\n",
            "Chinese      PROPN      NNP      noun, proper singular\n",
            "Communist    PROPN      NNP      noun, proper singular\n",
            "Party        PROPN      NNP      noun, proper singular\n",
            "(            PUNCT      -LRB-    left round bracket\n",
            "CCP          PROPN      NNP      noun, proper singular\n",
            ")            PUNCT      -RRB-    right round bracket\n",
            "and          CCONJ      CC       conjunction, coordinating\n",
            "Chairman     PROPN      NNP      noun, proper singular\n",
            "of           ADP        IN       conjunction, subordinating or preposition\n",
            "the          DET        DT       determiner\n",
            "Central      PROPN      NNP      noun, proper singular\n",
            "Military     PROPN      NNP      noun, proper singular\n",
            "Commission   PROPN      NNP      noun, proper singular\n",
            "(            PUNCT      -LRB-    left round bracket\n",
            "CMC          PROPN      NNP      noun, proper singular\n",
            ")            PUNCT      -RRB-    right round bracket\n",
            "since        SCONJ      IN       conjunction, subordinating or preposition\n",
            "2012         NUM        CD       cardinal number\n",
            ",            PUNCT      ,        punctuation mark, comma\n",
            "and          CCONJ      CC       conjunction, coordinating\n",
            "President    PROPN      NNP      noun, proper singular\n",
            "of           ADP        IN       conjunction, subordinating or preposition\n",
            "the          DET        DT       determiner\n",
            "People       PROPN      NNPS     noun, proper plural\n",
            "'s           PART       POS      possessive ending\n",
            "Republic     PROPN      NNP      noun, proper singular\n",
            "of           ADP        IN       conjunction, subordinating or preposition\n",
            "China        PROPN      NNP      noun, proper singular\n",
            "(            PUNCT      -LRB-    left round bracket\n",
            "PRC          PROPN      NNP      noun, proper singular\n",
            ")            PUNCT      -RRB-    right round bracket\n",
            "since        SCONJ      IN       conjunction, subordinating or preposition\n",
            "2013         NUM        CD       cardinal number\n",
            ".            PUNCT      .        punctuation mark, sentence closer\n",
            "He           PRON       PRP      pronoun, personal\n",
            "has          AUX        VBZ      verb, 3rd person singular present\n",
            "been         AUX        VBN      verb, past participle\n",
            "the          DET        DT       determiner\n",
            "paramount    ADJ        JJ       adjective\n",
            "leader       NOUN       NN       noun, singular or mass\n",
            "of           ADP        IN       conjunction, subordinating or preposition\n",
            "China        PROPN      NNP      noun, proper singular\n",
            ",            PUNCT      ,        punctuation mark, comma\n",
            "the          DET        DT       determiner\n",
            "most         ADV        RBS      adverb, superlative\n",
            "prominent    ADJ        JJ       adjective\n",
            "political    ADJ        JJ       adjective\n",
            "leader       NOUN       NN       noun, singular or mass\n",
            "in           ADP        IN       conjunction, subordinating or preposition\n",
            "the          DET        DT       determiner\n",
            "country      NOUN       NN       noun, singular or mass\n",
            ",            PUNCT      ,        punctuation mark, comma\n",
            "since        SCONJ      IN       conjunction, subordinating or preposition\n",
            "2012         NUM        CD       cardinal number\n",
            ".            PUNCT      .        punctuation mark, sentence closer\n",
            "The          DET        DT       determiner\n",
            "son          NOUN       NN       noun, singular or mass\n",
            "of           ADP        IN       conjunction, subordinating or preposition\n",
            "Chinese      PROPN      NNP      noun, proper singular\n",
            "Communist    ADJ        JJ       adjective\n",
            "veteran      NOUN       NN       noun, singular or mass\n",
            "Xi           PROPN      NNP      noun, proper singular\n",
            "Zhongxun     PROPN      NNP      noun, proper singular\n",
            ",            PUNCT      ,        punctuation mark, comma\n",
            "he           PRON       PRP      pronoun, personal\n",
            "was          AUX        VBD      verb, past tense\n",
            "exiled       VERB       VBN      verb, past participle\n",
            "to           ADP        IN       conjunction, subordinating or preposition\n",
            "rural        ADJ        JJ       adjective\n",
            "Yanchuan     PROPN      NNP      noun, proper singular\n",
            "County       PROPN      NNP      noun, proper singular\n",
            "as           SCONJ      IN       conjunction, subordinating or preposition\n",
            "a            DET        DT       determiner\n",
            "teenager     NOUN       NN       noun, singular or mass\n",
            "following    VERB       VBG      verb, gerund or present participle\n",
            "his          DET        PRP$     pronoun, possessive\n",
            "father       NOUN       NN       noun, singular or mass\n",
            "'s           PART       POS      possessive ending\n",
            "purge        NOUN       NN       noun, singular or mass\n",
            "during       ADP        IN       conjunction, subordinating or preposition\n",
            "the          DET        DT       determiner\n",
            "Cultural     PROPN      NNP      noun, proper singular\n",
            "Revolution   PROPN      NNP      noun, proper singular\n",
            "and          CCONJ      CC       conjunction, coordinating\n",
            "lived        VERB       VBD      verb, past tense\n",
            "in           ADP        IN       conjunction, subordinating or preposition\n",
            "a            DET        DT       determiner\n",
            "cave         NOUN       NN       noun, singular or mass\n",
            "in           ADP        IN       conjunction, subordinating or preposition\n",
            "the          DET        DT       determiner\n",
            "village      NOUN       NN       noun, singular or mass\n",
            "of           ADP        IN       conjunction, subordinating or preposition\n",
            "Liangjiahe   PROPN      NNP      noun, proper singular\n",
            ",            PUNCT      ,        punctuation mark, comma\n",
            "where        ADV        WRB      wh-adverb\n",
            "he           PRON       PRP      pronoun, personal\n",
            "joined       VERB       VBD      verb, past tense\n",
            "the          DET        DT       determiner\n",
            "CCP          PROPN      NNP      noun, proper singular\n",
            "and          CCONJ      CC       conjunction, coordinating\n",
            "worked       VERB       VBD      verb, past tense\n",
            "as           SCONJ      IN       conjunction, subordinating or preposition\n",
            "the          DET        DT       determiner\n",
            "party        NOUN       NN       noun, singular or mass\n",
            "secretary    NOUN       NN       noun, singular or mass\n",
            ".            PUNCT      .        punctuation mark, sentence closer\n"
          ],
          "name": "stdout"
        }
      ]
    },
    {
      "cell_type": "markdown",
      "metadata": {
        "id": "nfxWnLP0oaVP"
      },
      "source": [
        "# **Named entity recognizer (NER)**\r\n",
        "\r\n"
      ]
    },
    {
      "cell_type": "code",
      "metadata": {
        "colab": {
          "base_uri": "https://localhost:8080/",
          "height": 192
        },
        "id": "bEJhbJydo3AU",
        "outputId": "759a7b8a-3be6-48a2-8512-9792f4b305c1"
      },
      "source": [
        "import spacy\r\n",
        "from spacy import displacy # displacy() - Visualizing POS tags in a graphical way\r\n",
        "nlp = spacy.load('en_core_web_sm')\r\n",
        "text = nlp (\"Xi Jinping is a Chinese politician who has served as General Secretary of the Chinese Communist Party (CCP) and Chairman of the Central Military Commission (CMC) since 2012, and President of the People's Republic of China (PRC) since 2013. He has been the paramount leader of China, the most prominent political leader in the country, since 2012. The son of Chinese Communist veteran Xi Zhongxun, he was exiled to rural Yanchuan County as a teenager following his father's purge during the Cultural Revolution and lived in a cave in the village of Liangjiahe, where he joined the CCP and worked as the party secretary.\")\r\n",
        "displacy.render(text, style = 'ent', jupyter=True)"
      ],
      "execution_count": null,
      "outputs": [
        {
          "output_type": "display_data",
          "data": {
            "text/html": [
              "<span class=\"tex2jax_ignore\"><div class=\"entities\" style=\"line-height: 2.5; direction: ltr\">\n",
              "<mark class=\"entity\" style=\"background: #aa9cfc; padding: 0.45em 0.6em; margin: 0 0.25em; line-height: 1; border-radius: 0.35em;\">\n",
              "    Xi Jinping\n",
              "    <span style=\"font-size: 0.8em; font-weight: bold; line-height: 1; border-radius: 0.35em; text-transform: uppercase; vertical-align: middle; margin-left: 0.5rem\">PERSON</span>\n",
              "</mark>\n",
              " is a \n",
              "<mark class=\"entity\" style=\"background: #c887fb; padding: 0.45em 0.6em; margin: 0 0.25em; line-height: 1; border-radius: 0.35em;\">\n",
              "    Chinese\n",
              "    <span style=\"font-size: 0.8em; font-weight: bold; line-height: 1; border-radius: 0.35em; text-transform: uppercase; vertical-align: middle; margin-left: 0.5rem\">NORP</span>\n",
              "</mark>\n",
              " politician who has served as General Secretary of \n",
              "<mark class=\"entity\" style=\"background: #7aecec; padding: 0.45em 0.6em; margin: 0 0.25em; line-height: 1; border-radius: 0.35em;\">\n",
              "    the Chinese Communist Party\n",
              "    <span style=\"font-size: 0.8em; font-weight: bold; line-height: 1; border-radius: 0.35em; text-transform: uppercase; vertical-align: middle; margin-left: 0.5rem\">ORG</span>\n",
              "</mark>\n",
              " (\n",
              "<mark class=\"entity\" style=\"background: #7aecec; padding: 0.45em 0.6em; margin: 0 0.25em; line-height: 1; border-radius: 0.35em;\">\n",
              "    CCP\n",
              "    <span style=\"font-size: 0.8em; font-weight: bold; line-height: 1; border-radius: 0.35em; text-transform: uppercase; vertical-align: middle; margin-left: 0.5rem\">ORG</span>\n",
              "</mark>\n",
              ") and Chairman of \n",
              "<mark class=\"entity\" style=\"background: #7aecec; padding: 0.45em 0.6em; margin: 0 0.25em; line-height: 1; border-radius: 0.35em;\">\n",
              "    the Central Military Commission\n",
              "    <span style=\"font-size: 0.8em; font-weight: bold; line-height: 1; border-radius: 0.35em; text-transform: uppercase; vertical-align: middle; margin-left: 0.5rem\">ORG</span>\n",
              "</mark>\n",
              " (CMC) since \n",
              "<mark class=\"entity\" style=\"background: #bfe1d9; padding: 0.45em 0.6em; margin: 0 0.25em; line-height: 1; border-radius: 0.35em;\">\n",
              "    2012\n",
              "    <span style=\"font-size: 0.8em; font-weight: bold; line-height: 1; border-radius: 0.35em; text-transform: uppercase; vertical-align: middle; margin-left: 0.5rem\">DATE</span>\n",
              "</mark>\n",
              ", and President of \n",
              "<mark class=\"entity\" style=\"background: #feca74; padding: 0.45em 0.6em; margin: 0 0.25em; line-height: 1; border-radius: 0.35em;\">\n",
              "    the People's Republic of China\n",
              "    <span style=\"font-size: 0.8em; font-weight: bold; line-height: 1; border-radius: 0.35em; text-transform: uppercase; vertical-align: middle; margin-left: 0.5rem\">GPE</span>\n",
              "</mark>\n",
              " (\n",
              "<mark class=\"entity\" style=\"background: #feca74; padding: 0.45em 0.6em; margin: 0 0.25em; line-height: 1; border-radius: 0.35em;\">\n",
              "    PRC\n",
              "    <span style=\"font-size: 0.8em; font-weight: bold; line-height: 1; border-radius: 0.35em; text-transform: uppercase; vertical-align: middle; margin-left: 0.5rem\">GPE</span>\n",
              "</mark>\n",
              ") since \n",
              "<mark class=\"entity\" style=\"background: #bfe1d9; padding: 0.45em 0.6em; margin: 0 0.25em; line-height: 1; border-radius: 0.35em;\">\n",
              "    2013\n",
              "    <span style=\"font-size: 0.8em; font-weight: bold; line-height: 1; border-radius: 0.35em; text-transform: uppercase; vertical-align: middle; margin-left: 0.5rem\">DATE</span>\n",
              "</mark>\n",
              ". He has been the paramount leader of \n",
              "<mark class=\"entity\" style=\"background: #feca74; padding: 0.45em 0.6em; margin: 0 0.25em; line-height: 1; border-radius: 0.35em;\">\n",
              "    China\n",
              "    <span style=\"font-size: 0.8em; font-weight: bold; line-height: 1; border-radius: 0.35em; text-transform: uppercase; vertical-align: middle; margin-left: 0.5rem\">GPE</span>\n",
              "</mark>\n",
              ", the most prominent political leader in the country, since \n",
              "<mark class=\"entity\" style=\"background: #bfe1d9; padding: 0.45em 0.6em; margin: 0 0.25em; line-height: 1; border-radius: 0.35em;\">\n",
              "    2012\n",
              "    <span style=\"font-size: 0.8em; font-weight: bold; line-height: 1; border-radius: 0.35em; text-transform: uppercase; vertical-align: middle; margin-left: 0.5rem\">DATE</span>\n",
              "</mark>\n",
              ". The son of \n",
              "<mark class=\"entity\" style=\"background: #c887fb; padding: 0.45em 0.6em; margin: 0 0.25em; line-height: 1; border-radius: 0.35em;\">\n",
              "    Chinese\n",
              "    <span style=\"font-size: 0.8em; font-weight: bold; line-height: 1; border-radius: 0.35em; text-transform: uppercase; vertical-align: middle; margin-left: 0.5rem\">NORP</span>\n",
              "</mark>\n",
              " \n",
              "<mark class=\"entity\" style=\"background: #c887fb; padding: 0.45em 0.6em; margin: 0 0.25em; line-height: 1; border-radius: 0.35em;\">\n",
              "    Communist\n",
              "    <span style=\"font-size: 0.8em; font-weight: bold; line-height: 1; border-radius: 0.35em; text-transform: uppercase; vertical-align: middle; margin-left: 0.5rem\">NORP</span>\n",
              "</mark>\n",
              " veteran \n",
              "<mark class=\"entity\" style=\"background: #aa9cfc; padding: 0.45em 0.6em; margin: 0 0.25em; line-height: 1; border-radius: 0.35em;\">\n",
              "    Xi Zhongxun\n",
              "    <span style=\"font-size: 0.8em; font-weight: bold; line-height: 1; border-radius: 0.35em; text-transform: uppercase; vertical-align: middle; margin-left: 0.5rem\">PERSON</span>\n",
              "</mark>\n",
              ", he was exiled to rural \n",
              "<mark class=\"entity\" style=\"background: #feca74; padding: 0.45em 0.6em; margin: 0 0.25em; line-height: 1; border-radius: 0.35em;\">\n",
              "    Yanchuan County\n",
              "    <span style=\"font-size: 0.8em; font-weight: bold; line-height: 1; border-radius: 0.35em; text-transform: uppercase; vertical-align: middle; margin-left: 0.5rem\">GPE</span>\n",
              "</mark>\n",
              " as a teenager following his father's purge during \n",
              "<mark class=\"entity\" style=\"background: #ffeb80; padding: 0.45em 0.6em; margin: 0 0.25em; line-height: 1; border-radius: 0.35em;\">\n",
              "    the Cultural Revolution\n",
              "    <span style=\"font-size: 0.8em; font-weight: bold; line-height: 1; border-radius: 0.35em; text-transform: uppercase; vertical-align: middle; margin-left: 0.5rem\">EVENT</span>\n",
              "</mark>\n",
              " and lived in a cave in the village of \n",
              "<mark class=\"entity\" style=\"background: #feca74; padding: 0.45em 0.6em; margin: 0 0.25em; line-height: 1; border-radius: 0.35em;\">\n",
              "    Liangjiahe\n",
              "    <span style=\"font-size: 0.8em; font-weight: bold; line-height: 1; border-radius: 0.35em; text-transform: uppercase; vertical-align: middle; margin-left: 0.5rem\">GPE</span>\n",
              "</mark>\n",
              ", where he joined the \n",
              "<mark class=\"entity\" style=\"background: #7aecec; padding: 0.45em 0.6em; margin: 0 0.25em; line-height: 1; border-radius: 0.35em;\">\n",
              "    CCP\n",
              "    <span style=\"font-size: 0.8em; font-weight: bold; line-height: 1; border-radius: 0.35em; text-transform: uppercase; vertical-align: middle; margin-left: 0.5rem\">ORG</span>\n",
              "</mark>\n",
              " and worked as the party secretary.</div></span>"
            ],
            "text/plain": [
              "<IPython.core.display.HTML object>"
            ]
          },
          "metadata": {
            "tags": []
          }
        }
      ]
    },
    {
      "cell_type": "markdown",
      "metadata": {
        "id": "GwcTMFNXxWX-"
      },
      "source": [
        "**Another way**"
      ]
    },
    {
      "cell_type": "code",
      "metadata": {
        "colab": {
          "base_uri": "https://localhost:8080/"
        },
        "id": "CtP-E5CVxX-I",
        "outputId": "edb5e974-0c45-4968-8275-06799d80ef57"
      },
      "source": [
        "import spacy\r\n",
        "sp = spacy.load('en_core_web_sm')\r\n",
        "data = sp(\"Xi Jinping is a Chinese politician who has served as General Secretary of the Chinese Communist Party (CCP) and Chairman of the Central Military Commission (CMC) since 2012, and President of the People's Republic of China (PRC) since 2013. He has been the paramount leader of China, the most prominent political leader in the country, since 2012. The son of Chinese Communist veteran Xi Zhongxun, he was exiled to rural Yanchuan County as a teenager following his father's purge during the Cultural Revolution and lived in a cave in the village of Liangjiahe, where he joined the CCP and worked as the party secretary.\")\r\n",
        "print(data.ents)  #ents - which returns the list of all the named entities in the data.\r\n",
        "for entity in data.ents:\r\n",
        "    print(\"{:30s}\\t{:30s}\\t\".format(entity.text,entity.label_))"
      ],
      "execution_count": null,
      "outputs": [
        {
          "output_type": "stream",
          "text": [
            "(Xi Jinping, Chinese, the Chinese Communist Party, CCP, the Central Military Commission, 2012, the People's Republic of China, PRC, 2013, China, 2012, Chinese, Communist, Xi Zhongxun, Yanchuan County, the Cultural Revolution, Liangjiahe, CCP)\n",
            "Xi Jinping                    \tPERSON                        \t\n",
            "Chinese                       \tNORP                          \t\n",
            "the Chinese Communist Party   \tORG                           \t\n",
            "CCP                           \tORG                           \t\n",
            "the Central Military Commission\tORG                           \t\n",
            "2012                          \tDATE                          \t\n",
            "the People's Republic of China\tGPE                           \t\n",
            "PRC                           \tGPE                           \t\n",
            "2013                          \tDATE                          \t\n",
            "China                         \tGPE                           \t\n",
            "2012                          \tDATE                          \t\n",
            "Chinese                       \tNORP                          \t\n",
            "Communist                     \tNORP                          \t\n",
            "Xi Zhongxun                   \tPERSON                        \t\n",
            "Yanchuan County               \tGPE                           \t\n",
            "the Cultural Revolution       \tEVENT                         \t\n",
            "Liangjiahe                    \tGPE                           \t\n",
            "CCP                           \tORG                           \t\n"
          ],
          "name": "stdout"
        }
      ]
    },
    {
      "cell_type": "markdown",
      "metadata": {
        "id": "szxbpXocpdn4"
      },
      "source": [
        "# **Lemmatization**"
      ]
    },
    {
      "cell_type": "code",
      "metadata": {
        "colab": {
          "base_uri": "https://localhost:8080/"
        },
        "id": "tvOsKavBpkm9",
        "outputId": "22fc079b-9930-4496-c66e-1c9e284612a1"
      },
      "source": [
        "import nltk\r\n",
        "nltk.download('punkt')\r\n",
        "nltk.download('wordnet')\r\n",
        "from nltk.stem import WordNetLemmatizer\r\n",
        "wordnet_lemmatizer = WordNetLemmatizer()\r\n",
        "data = \"Xi Jinping is a Chinese politician who has served as General Secretary of the Chinese Communist Party (CCP) and Chairman of the Central Military Commission (CMC) since 2012, and President of the People's Republic of China (PRC) since 2013. He has been the paramount leader of China, the most prominent political leader in the country, since 2012. The son of Chinese Communist veteran Xi Zhongxun, he was exiled to rural Yanchuan County as a teenager following his father's purge during the Cultural Revolution and lived in a cave in the village of Liangjiahe, where he joined the CCP and worked as the party secretary.\"\r\n",
        "nltk_tokens = nltk.word_tokenize(data)\r\n",
        "print(\"{0:20}{1:30}\".format(\"Original\",\"Lemmatization\"))\r\n",
        "for w in nltk_tokens:\r\n",
        "       print (\"{0:20}{1:30}\".format(w,wordnet_lemmatizer.lemmatize(w, pos=\"v\"))) # I have passed the optional parameter Part of Speech as \"v\" - Verb. So it will process based on Verb."
      ],
      "execution_count": null,
      "outputs": [
        {
          "output_type": "stream",
          "text": [
            "[nltk_data] Downloading package punkt to /root/nltk_data...\n",
            "[nltk_data]   Package punkt is already up-to-date!\n",
            "[nltk_data] Downloading package wordnet to /root/nltk_data...\n",
            "[nltk_data]   Package wordnet is already up-to-date!\n",
            "Original            Lemmatization                 \n",
            "Xi                  Xi                            \n",
            "Jinping             Jinping                       \n",
            "is                  be                            \n",
            "a                   a                             \n",
            "Chinese             Chinese                       \n",
            "politician          politician                    \n",
            "who                 who                           \n",
            "has                 have                          \n",
            "served              serve                         \n",
            "as                  as                            \n",
            "General             General                       \n",
            "Secretary           Secretary                     \n",
            "of                  of                            \n",
            "the                 the                           \n",
            "Chinese             Chinese                       \n",
            "Communist           Communist                     \n",
            "Party               Party                         \n",
            "(                   (                             \n",
            "CCP                 CCP                           \n",
            ")                   )                             \n",
            "and                 and                           \n",
            "Chairman            Chairman                      \n",
            "of                  of                            \n",
            "the                 the                           \n",
            "Central             Central                       \n",
            "Military            Military                      \n",
            "Commission          Commission                    \n",
            "(                   (                             \n",
            "CMC                 CMC                           \n",
            ")                   )                             \n",
            "since               since                         \n",
            "2012                2012                          \n",
            ",                   ,                             \n",
            "and                 and                           \n",
            "President           President                     \n",
            "of                  of                            \n",
            "the                 the                           \n",
            "People              People                        \n",
            "'s                  's                            \n",
            "Republic            Republic                      \n",
            "of                  of                            \n",
            "China               China                         \n",
            "(                   (                             \n",
            "PRC                 PRC                           \n",
            ")                   )                             \n",
            "since               since                         \n",
            "2013                2013                          \n",
            ".                   .                             \n",
            "He                  He                            \n",
            "has                 have                          \n",
            "been                be                            \n",
            "the                 the                           \n",
            "paramount           paramount                     \n",
            "leader              leader                        \n",
            "of                  of                            \n",
            "China               China                         \n",
            ",                   ,                             \n",
            "the                 the                           \n",
            "most                most                          \n",
            "prominent           prominent                     \n",
            "political           political                     \n",
            "leader              leader                        \n",
            "in                  in                            \n",
            "the                 the                           \n",
            "country             country                       \n",
            ",                   ,                             \n",
            "since               since                         \n",
            "2012                2012                          \n",
            ".                   .                             \n",
            "The                 The                           \n",
            "son                 son                           \n",
            "of                  of                            \n",
            "Chinese             Chinese                       \n",
            "Communist           Communist                     \n",
            "veteran             veteran                       \n",
            "Xi                  Xi                            \n",
            "Zhongxun            Zhongxun                      \n",
            ",                   ,                             \n",
            "he                  he                            \n",
            "was                 be                            \n",
            "exiled              exile                         \n",
            "to                  to                            \n",
            "rural               rural                         \n",
            "Yanchuan            Yanchuan                      \n",
            "County              County                        \n",
            "as                  as                            \n",
            "a                   a                             \n",
            "teenager            teenager                      \n",
            "following           follow                        \n",
            "his                 his                           \n",
            "father              father                        \n",
            "'s                  's                            \n",
            "purge               purge                         \n",
            "during              during                        \n",
            "the                 the                           \n",
            "Cultural            Cultural                      \n",
            "Revolution          Revolution                    \n",
            "and                 and                           \n",
            "lived               live                          \n",
            "in                  in                            \n",
            "a                   a                             \n",
            "cave                cave                          \n",
            "in                  in                            \n",
            "the                 the                           \n",
            "village             village                       \n",
            "of                  of                            \n",
            "Liangjiahe          Liangjiahe                    \n",
            ",                   ,                             \n",
            "where               where                         \n",
            "he                  he                            \n",
            "joined              join                          \n",
            "the                 the                           \n",
            "CCP                 CCP                           \n",
            "and                 and                           \n",
            "worked              work                          \n",
            "as                  as                            \n",
            "the                 the                           \n",
            "party               party                         \n",
            "secretary           secretary                     \n",
            ".                   .                             \n"
          ],
          "name": "stdout"
        }
      ]
    },
    {
      "cell_type": "markdown",
      "metadata": {
        "id": "Z_V3oo-wt2_z"
      },
      "source": [
        "# **Co-reference resolution**\r\n",
        "\r\n",
        "Getting run time error and crashing due to version incompatability.  "
      ]
    },
    {
      "cell_type": "code",
      "metadata": {
        "id": "ysaaytUouFQe",
        "colab": {
          "base_uri": "https://localhost:8080/"
        },
        "outputId": "9d811d35-0728-48f1-d75f-8918f48f378b"
      },
      "source": [
        "import numpy as np\r\n",
        "import pandas as pd\r\n",
        "\r\n",
        "MODEL_URL = \"https://github.com/huggingface/neuralcoref-models/releases/\" \\\r\n",
        "            \"download/en_coref_md-3.0.0/en_coref_md-3.0.0.tar.gz\"\r\n",
        "\r\n",
        "!pip install spacy==2.0.12\r\n",
        "!pip install {MODEL_URL}\r\n",
        "!python -m spacy download en_core_web_md\r\n",
        "\r\n",
        "import en_coref_md\r\n",
        "nlp = en_coref_md.load()\r\n",
        "\r\n",
        "test_sent = \"Xi Jinping is a Chinese politician who has served as General Secretary of the Chinese Communist Party (CCP) and Chairman of the Central Military Commission (CMC) since 2012, and President of the People's Republic of China (PRC) since 2013. He has been the paramount leader of China, the most prominent political leader in the country, since 2012. The son of Chinese Communist veteran Xi Zhongxun, he was exiled to rural Yanchuan County as a teenager following his father's purge during the Cultural Revolution and lived in a cave in the village of Liangjiahe, where he joined the CCP and worked as the party secretary.\"\r\n",
        "doc = nlp(test_sent)\r\n",
        "for x in doc.ents:\r\n",
        "    if x._.coref_cluster:\r\n",
        "        print(x._.coref_cluster)"
      ],
      "execution_count": 5,
      "outputs": [
        {
          "output_type": "stream",
          "text": [
            "Requirement already satisfied: spacy==2.0.12 in /usr/local/lib/python3.6/dist-packages (2.0.12)\n",
            "Requirement already satisfied: ujson>=1.35 in /usr/local/lib/python3.6/dist-packages (from spacy==2.0.12) (4.0.2)\n",
            "Requirement already satisfied: requests<3.0.0,>=2.13.0 in /usr/local/lib/python3.6/dist-packages (from spacy==2.0.12) (2.23.0)\n",
            "Requirement already satisfied: thinc<6.11.0,>=6.10.3 in /usr/local/lib/python3.6/dist-packages (from spacy==2.0.12) (6.10.3)\n",
            "Requirement already satisfied: preshed<2.0.0,>=1.0.0 in /usr/local/lib/python3.6/dist-packages (from spacy==2.0.12) (1.0.1)\n",
            "Requirement already satisfied: murmurhash<0.29,>=0.28 in /usr/local/lib/python3.6/dist-packages (from spacy==2.0.12) (0.28.0)\n",
            "Requirement already satisfied: numpy>=1.7 in /usr/local/lib/python3.6/dist-packages (from spacy==2.0.12) (1.19.5)\n",
            "Requirement already satisfied: dill<0.3,>=0.2 in /usr/local/lib/python3.6/dist-packages (from spacy==2.0.12) (0.2.9)\n",
            "Requirement already satisfied: regex==2017.4.5 in /usr/local/lib/python3.6/dist-packages (from spacy==2.0.12) (2017.4.5)\n",
            "Requirement already satisfied: plac<1.0.0,>=0.9.6 in /usr/local/lib/python3.6/dist-packages (from spacy==2.0.12) (0.9.6)\n",
            "Requirement already satisfied: cymem<1.32,>=1.30 in /usr/local/lib/python3.6/dist-packages (from spacy==2.0.12) (1.31.2)\n",
            "Requirement already satisfied: idna<3,>=2.5 in /usr/local/lib/python3.6/dist-packages (from requests<3.0.0,>=2.13.0->spacy==2.0.12) (2.10)\n",
            "Requirement already satisfied: chardet<4,>=3.0.2 in /usr/local/lib/python3.6/dist-packages (from requests<3.0.0,>=2.13.0->spacy==2.0.12) (3.0.4)\n",
            "Requirement already satisfied: urllib3!=1.25.0,!=1.25.1,<1.26,>=1.21.1 in /usr/local/lib/python3.6/dist-packages (from requests<3.0.0,>=2.13.0->spacy==2.0.12) (1.24.3)\n",
            "Requirement already satisfied: certifi>=2017.4.17 in /usr/local/lib/python3.6/dist-packages (from requests<3.0.0,>=2.13.0->spacy==2.0.12) (2020.12.5)\n",
            "Requirement already satisfied: cytoolz<0.10,>=0.9.0 in /usr/local/lib/python3.6/dist-packages (from thinc<6.11.0,>=6.10.3->spacy==2.0.12) (0.9.0.1)\n",
            "Requirement already satisfied: msgpack<1.0.0,>=0.5.6 in /usr/local/lib/python3.6/dist-packages (from thinc<6.11.0,>=6.10.3->spacy==2.0.12) (0.6.2)\n",
            "Requirement already satisfied: msgpack-numpy<1.0.0,>=0.4.1 in /usr/local/lib/python3.6/dist-packages (from thinc<6.11.0,>=6.10.3->spacy==2.0.12) (0.4.7.1)\n",
            "Requirement already satisfied: six<2.0.0,>=1.10.0 in /usr/local/lib/python3.6/dist-packages (from thinc<6.11.0,>=6.10.3->spacy==2.0.12) (1.15.0)\n",
            "Requirement already satisfied: wrapt<1.11.0,>=1.10.0 in /usr/local/lib/python3.6/dist-packages (from thinc<6.11.0,>=6.10.3->spacy==2.0.12) (1.10.11)\n",
            "Requirement already satisfied: tqdm<5.0.0,>=4.10.0 in /usr/local/lib/python3.6/dist-packages (from thinc<6.11.0,>=6.10.3->spacy==2.0.12) (4.41.1)\n",
            "Requirement already satisfied: toolz>=0.8.0 in /usr/local/lib/python3.6/dist-packages (from cytoolz<0.10,>=0.9.0->thinc<6.11.0,>=6.10.3->spacy==2.0.12) (0.11.1)\n",
            "Collecting https://github.com/huggingface/neuralcoref-models/releases/download/en_coref_md-3.0.0/en_coref_md-3.0.0.tar.gz\n",
            "\u001b[?25l  Downloading https://github.com/huggingface/neuralcoref-models/releases/download/en_coref_md-3.0.0/en_coref_md-3.0.0.tar.gz (161.3MB)\n",
            "\u001b[K     |████████████████████████████████| 161.3MB 73kB/s \n",
            "\u001b[?25hRequirement already satisfied (use --upgrade to upgrade): en-coref-md==3.0.0 from https://github.com/huggingface/neuralcoref-models/releases/download/en_coref_md-3.0.0/en_coref_md-3.0.0.tar.gz in /usr/local/lib/python3.6/dist-packages\n",
            "Requirement already satisfied: spacy>=>=2.0.0 in /usr/local/lib/python3.6/dist-packages (from en-coref-md==3.0.0) (2.0.12)\n",
            "Requirement already satisfied: murmurhash<0.29,>=0.28 in /usr/local/lib/python3.6/dist-packages (from spacy>=>=2.0.0->en-coref-md==3.0.0) (0.28.0)\n",
            "Requirement already satisfied: preshed<2.0.0,>=1.0.0 in /usr/local/lib/python3.6/dist-packages (from spacy>=>=2.0.0->en-coref-md==3.0.0) (1.0.1)\n",
            "Requirement already satisfied: requests<3.0.0,>=2.13.0 in /usr/local/lib/python3.6/dist-packages (from spacy>=>=2.0.0->en-coref-md==3.0.0) (2.23.0)\n",
            "Requirement already satisfied: cymem<1.32,>=1.30 in /usr/local/lib/python3.6/dist-packages (from spacy>=>=2.0.0->en-coref-md==3.0.0) (1.31.2)\n",
            "Requirement already satisfied: thinc<6.11.0,>=6.10.3 in /usr/local/lib/python3.6/dist-packages (from spacy>=>=2.0.0->en-coref-md==3.0.0) (6.10.3)\n",
            "Requirement already satisfied: regex==2017.4.5 in /usr/local/lib/python3.6/dist-packages (from spacy>=>=2.0.0->en-coref-md==3.0.0) (2017.4.5)\n",
            "Requirement already satisfied: plac<1.0.0,>=0.9.6 in /usr/local/lib/python3.6/dist-packages (from spacy>=>=2.0.0->en-coref-md==3.0.0) (0.9.6)\n",
            "Requirement already satisfied: ujson>=1.35 in /usr/local/lib/python3.6/dist-packages (from spacy>=>=2.0.0->en-coref-md==3.0.0) (4.0.2)\n",
            "Requirement already satisfied: numpy>=1.7 in /usr/local/lib/python3.6/dist-packages (from spacy>=>=2.0.0->en-coref-md==3.0.0) (1.19.5)\n",
            "Requirement already satisfied: dill<0.3,>=0.2 in /usr/local/lib/python3.6/dist-packages (from spacy>=>=2.0.0->en-coref-md==3.0.0) (0.2.9)\n",
            "Requirement already satisfied: urllib3!=1.25.0,!=1.25.1,<1.26,>=1.21.1 in /usr/local/lib/python3.6/dist-packages (from requests<3.0.0,>=2.13.0->spacy>=>=2.0.0->en-coref-md==3.0.0) (1.24.3)\n",
            "Requirement already satisfied: idna<3,>=2.5 in /usr/local/lib/python3.6/dist-packages (from requests<3.0.0,>=2.13.0->spacy>=>=2.0.0->en-coref-md==3.0.0) (2.10)\n",
            "Requirement already satisfied: certifi>=2017.4.17 in /usr/local/lib/python3.6/dist-packages (from requests<3.0.0,>=2.13.0->spacy>=>=2.0.0->en-coref-md==3.0.0) (2020.12.5)\n",
            "Requirement already satisfied: chardet<4,>=3.0.2 in /usr/local/lib/python3.6/dist-packages (from requests<3.0.0,>=2.13.0->spacy>=>=2.0.0->en-coref-md==3.0.0) (3.0.4)\n",
            "Requirement already satisfied: cytoolz<0.10,>=0.9.0 in /usr/local/lib/python3.6/dist-packages (from thinc<6.11.0,>=6.10.3->spacy>=>=2.0.0->en-coref-md==3.0.0) (0.9.0.1)\n",
            "Requirement already satisfied: wrapt<1.11.0,>=1.10.0 in /usr/local/lib/python3.6/dist-packages (from thinc<6.11.0,>=6.10.3->spacy>=>=2.0.0->en-coref-md==3.0.0) (1.10.11)\n",
            "Requirement already satisfied: tqdm<5.0.0,>=4.10.0 in /usr/local/lib/python3.6/dist-packages (from thinc<6.11.0,>=6.10.3->spacy>=>=2.0.0->en-coref-md==3.0.0) (4.41.1)\n",
            "Requirement already satisfied: msgpack-numpy<1.0.0,>=0.4.1 in /usr/local/lib/python3.6/dist-packages (from thinc<6.11.0,>=6.10.3->spacy>=>=2.0.0->en-coref-md==3.0.0) (0.4.7.1)\n",
            "Requirement already satisfied: msgpack<1.0.0,>=0.5.6 in /usr/local/lib/python3.6/dist-packages (from thinc<6.11.0,>=6.10.3->spacy>=>=2.0.0->en-coref-md==3.0.0) (0.6.2)\n",
            "Requirement already satisfied: six<2.0.0,>=1.10.0 in /usr/local/lib/python3.6/dist-packages (from thinc<6.11.0,>=6.10.3->spacy>=>=2.0.0->en-coref-md==3.0.0) (1.15.0)\n",
            "Requirement already satisfied: toolz>=0.8.0 in /usr/local/lib/python3.6/dist-packages (from cytoolz<0.10,>=0.9.0->thinc<6.11.0,>=6.10.3->spacy>=>=2.0.0->en-coref-md==3.0.0) (0.11.1)\n",
            "Building wheels for collected packages: en-coref-md\n",
            "  Building wheel for en-coref-md (setup.py) ... \u001b[?25l\u001b[?25hdone\n",
            "  Created wheel for en-coref-md: filename=en_coref_md-3.0.0-cp36-cp36m-linux_x86_64.whl size=163510688 sha256=d8bf51dffe312e79b7deb0084d08f503376dfd6174052d90ef1268c7d350f2be\n",
            "  Stored in directory: /root/.cache/pip/wheels/aa/a3/8f/9df13c027b75169bcca62682563e9823bb213c72a2cc3efed8\n",
            "Successfully built en-coref-md\n",
            "Requirement already satisfied: en_core_web_md==2.0.0 from https://github.com/explosion/spacy-models/releases/download/en_core_web_md-2.0.0/en_core_web_md-2.0.0.tar.gz#egg=en_core_web_md==2.0.0 in /usr/local/lib/python3.6/dist-packages (2.0.0)\n",
            "\n",
            "\u001b[93m    Linking successful\u001b[0m\n",
            "    /usr/local/lib/python3.6/dist-packages/en_core_web_md -->\n",
            "    /usr/local/lib/python3.6/dist-packages/spacy/data/en_core_web_md\n",
            "\n",
            "    You can now load the model via spacy.load('en_core_web_md')\n",
            "\n",
            "Xi Jinping: [Xi Jinping, He, he, his, he]\n",
            "China: [China, China, the country]\n"
          ],
          "name": "stdout"
        }
      ]
    },
    {
      "cell_type": "markdown",
      "metadata": {
        "id": "RrCxzD9HmYT4"
      },
      "source": [
        "# **Parsing**\r\n"
      ]
    },
    {
      "cell_type": "code",
      "metadata": {
        "colab": {
          "base_uri": "https://localhost:8080/",
          "height": 514
        },
        "id": "bdtcKjalmejU",
        "outputId": "43931d01-26d3-4622-8a27-e11f960cab25"
      },
      "source": [
        "import nltk\r\n",
        "nltk.download('punkt')\r\n",
        "nltk.download('averaged_perceptron_tagger')\r\n",
        "from nltk.tag import pos_tag\r\n",
        "from nltk.tokenize import word_tokenize\r\n",
        "data = \"Xi Jinping is a Chinese politician who has served as General Secretary of the Chinese Communist Party (CCP) and Chairman of the Central Military Commission (CMC) since 2012, and President of the People's Republic of China (PRC) since 2013. He has been the paramount leader of China, the most prominent political leader in the country, since 2012. The son of Chinese Communist veteran Xi Zhongxun, he was exiled to rural Yanchuan County as a teenager following his father's purge during the Cultural Revolution and lived in a cave in the village of Liangjiahe, where he joined the CCP and worked as the party secretary.\"\r\n",
        "new_token = nltk.pos_tag (word_tokenize(data))\r\n",
        "new_token\r\n",
        "\r\n",
        "np = r \"NP: {<DT>?<JJ>*<NN>}\" #This is a definition for a rule to group of words into a noun phrase.  It will group one determinant, then zero or more adjectives followed by zero or more nouns. \r\n",
        "chunk_parser = nltk.RegexpParser(np) #RegexpParser - Uses a set of regular expression patterns to specify the behavior of the parser. \r\n",
        "result = chunk_parser.parse(new_token)\r\n",
        "result"
      ],
      "execution_count": null,
      "outputs": [
        {
          "output_type": "stream",
          "text": [
            "[nltk_data] Downloading package punkt to /root/nltk_data...\n",
            "[nltk_data]   Package punkt is already up-to-date!\n",
            "[nltk_data] Downloading package averaged_perceptron_tagger to\n",
            "[nltk_data]     /root/nltk_data...\n",
            "[nltk_data]   Unzipping taggers/averaged_perceptron_tagger.zip.\n"
          ],
          "name": "stdout"
        },
        {
          "output_type": "error",
          "ename": "TclError",
          "evalue": "ignored",
          "traceback": [
            "\u001b[0;31m---------------------------------------------------------------------------\u001b[0m",
            "\u001b[0;31mTclError\u001b[0m                                  Traceback (most recent call last)",
            "\u001b[0;32m/usr/local/lib/python3.6/dist-packages/IPython/core/formatters.py\u001b[0m in \u001b[0;36m__call__\u001b[0;34m(self, obj)\u001b[0m\n\u001b[1;32m    336\u001b[0m             \u001b[0mmethod\u001b[0m \u001b[0;34m=\u001b[0m \u001b[0mget_real_method\u001b[0m\u001b[0;34m(\u001b[0m\u001b[0mobj\u001b[0m\u001b[0;34m,\u001b[0m \u001b[0mself\u001b[0m\u001b[0;34m.\u001b[0m\u001b[0mprint_method\u001b[0m\u001b[0;34m)\u001b[0m\u001b[0;34m\u001b[0m\u001b[0;34m\u001b[0m\u001b[0m\n\u001b[1;32m    337\u001b[0m             \u001b[0;32mif\u001b[0m \u001b[0mmethod\u001b[0m \u001b[0;32mis\u001b[0m \u001b[0;32mnot\u001b[0m \u001b[0;32mNone\u001b[0m\u001b[0;34m:\u001b[0m\u001b[0;34m\u001b[0m\u001b[0;34m\u001b[0m\u001b[0m\n\u001b[0;32m--> 338\u001b[0;31m                 \u001b[0;32mreturn\u001b[0m \u001b[0mmethod\u001b[0m\u001b[0;34m(\u001b[0m\u001b[0;34m)\u001b[0m\u001b[0;34m\u001b[0m\u001b[0;34m\u001b[0m\u001b[0m\n\u001b[0m\u001b[1;32m    339\u001b[0m             \u001b[0;32mreturn\u001b[0m \u001b[0;32mNone\u001b[0m\u001b[0;34m\u001b[0m\u001b[0;34m\u001b[0m\u001b[0m\n\u001b[1;32m    340\u001b[0m         \u001b[0;32melse\u001b[0m\u001b[0;34m:\u001b[0m\u001b[0;34m\u001b[0m\u001b[0;34m\u001b[0m\u001b[0m\n",
            "\u001b[0;32m/usr/local/lib/python3.6/dist-packages/nltk/tree.py\u001b[0m in \u001b[0;36m_repr_png_\u001b[0;34m(self)\u001b[0m\n\u001b[1;32m    717\u001b[0m         \u001b[0;32mfrom\u001b[0m \u001b[0mnltk\u001b[0m\u001b[0;34m.\u001b[0m\u001b[0mdraw\u001b[0m\u001b[0;34m.\u001b[0m\u001b[0mutil\u001b[0m \u001b[0;32mimport\u001b[0m \u001b[0mCanvasFrame\u001b[0m\u001b[0;34m\u001b[0m\u001b[0;34m\u001b[0m\u001b[0m\n\u001b[1;32m    718\u001b[0m         \u001b[0;32mfrom\u001b[0m \u001b[0mnltk\u001b[0m\u001b[0;34m.\u001b[0m\u001b[0minternals\u001b[0m \u001b[0;32mimport\u001b[0m \u001b[0mfind_binary\u001b[0m\u001b[0;34m\u001b[0m\u001b[0;34m\u001b[0m\u001b[0m\n\u001b[0;32m--> 719\u001b[0;31m         \u001b[0m_canvas_frame\u001b[0m \u001b[0;34m=\u001b[0m \u001b[0mCanvasFrame\u001b[0m\u001b[0;34m(\u001b[0m\u001b[0;34m)\u001b[0m\u001b[0;34m\u001b[0m\u001b[0;34m\u001b[0m\u001b[0m\n\u001b[0m\u001b[1;32m    720\u001b[0m         \u001b[0mwidget\u001b[0m \u001b[0;34m=\u001b[0m \u001b[0mtree_to_treesegment\u001b[0m\u001b[0;34m(\u001b[0m\u001b[0m_canvas_frame\u001b[0m\u001b[0;34m.\u001b[0m\u001b[0mcanvas\u001b[0m\u001b[0;34m(\u001b[0m\u001b[0;34m)\u001b[0m\u001b[0;34m,\u001b[0m \u001b[0mself\u001b[0m\u001b[0;34m)\u001b[0m\u001b[0;34m\u001b[0m\u001b[0;34m\u001b[0m\u001b[0m\n\u001b[1;32m    721\u001b[0m         \u001b[0m_canvas_frame\u001b[0m\u001b[0;34m.\u001b[0m\u001b[0madd_widget\u001b[0m\u001b[0;34m(\u001b[0m\u001b[0mwidget\u001b[0m\u001b[0;34m)\u001b[0m\u001b[0;34m\u001b[0m\u001b[0;34m\u001b[0m\u001b[0m\n",
            "\u001b[0;32m/usr/local/lib/python3.6/dist-packages/nltk/draw/util.py\u001b[0m in \u001b[0;36m__init__\u001b[0;34m(self, parent, **kw)\u001b[0m\n\u001b[1;32m   1651\u001b[0m         \u001b[0;31m# If no parent was given, set up a top-level window.\u001b[0m\u001b[0;34m\u001b[0m\u001b[0;34m\u001b[0m\u001b[0;34m\u001b[0m\u001b[0m\n\u001b[1;32m   1652\u001b[0m         \u001b[0;32mif\u001b[0m \u001b[0mparent\u001b[0m \u001b[0;32mis\u001b[0m \u001b[0;32mNone\u001b[0m\u001b[0;34m:\u001b[0m\u001b[0;34m\u001b[0m\u001b[0;34m\u001b[0m\u001b[0m\n\u001b[0;32m-> 1653\u001b[0;31m             \u001b[0mself\u001b[0m\u001b[0;34m.\u001b[0m\u001b[0m_parent\u001b[0m \u001b[0;34m=\u001b[0m \u001b[0mTk\u001b[0m\u001b[0;34m(\u001b[0m\u001b[0;34m)\u001b[0m\u001b[0;34m\u001b[0m\u001b[0;34m\u001b[0m\u001b[0m\n\u001b[0m\u001b[1;32m   1654\u001b[0m             \u001b[0mself\u001b[0m\u001b[0;34m.\u001b[0m\u001b[0m_parent\u001b[0m\u001b[0;34m.\u001b[0m\u001b[0mtitle\u001b[0m\u001b[0;34m(\u001b[0m\u001b[0;34m'NLTK'\u001b[0m\u001b[0;34m)\u001b[0m\u001b[0;34m\u001b[0m\u001b[0;34m\u001b[0m\u001b[0m\n\u001b[1;32m   1655\u001b[0m             \u001b[0mself\u001b[0m\u001b[0;34m.\u001b[0m\u001b[0m_parent\u001b[0m\u001b[0;34m.\u001b[0m\u001b[0mbind\u001b[0m\u001b[0;34m(\u001b[0m\u001b[0;34m'<Control-p>'\u001b[0m\u001b[0;34m,\u001b[0m \u001b[0;32mlambda\u001b[0m \u001b[0me\u001b[0m\u001b[0;34m:\u001b[0m \u001b[0mself\u001b[0m\u001b[0;34m.\u001b[0m\u001b[0mprint_to_file\u001b[0m\u001b[0;34m(\u001b[0m\u001b[0;34m)\u001b[0m\u001b[0;34m)\u001b[0m\u001b[0;34m\u001b[0m\u001b[0;34m\u001b[0m\u001b[0m\n",
            "\u001b[0;32m/usr/lib/python3.6/tkinter/__init__.py\u001b[0m in \u001b[0;36m__init__\u001b[0;34m(self, screenName, baseName, className, useTk, sync, use)\u001b[0m\n\u001b[1;32m   2021\u001b[0m                 \u001b[0mbaseName\u001b[0m \u001b[0;34m=\u001b[0m \u001b[0mbaseName\u001b[0m \u001b[0;34m+\u001b[0m \u001b[0mext\u001b[0m\u001b[0;34m\u001b[0m\u001b[0;34m\u001b[0m\u001b[0m\n\u001b[1;32m   2022\u001b[0m         \u001b[0minteractive\u001b[0m \u001b[0;34m=\u001b[0m \u001b[0;36m0\u001b[0m\u001b[0;34m\u001b[0m\u001b[0;34m\u001b[0m\u001b[0m\n\u001b[0;32m-> 2023\u001b[0;31m         \u001b[0mself\u001b[0m\u001b[0;34m.\u001b[0m\u001b[0mtk\u001b[0m \u001b[0;34m=\u001b[0m \u001b[0m_tkinter\u001b[0m\u001b[0;34m.\u001b[0m\u001b[0mcreate\u001b[0m\u001b[0;34m(\u001b[0m\u001b[0mscreenName\u001b[0m\u001b[0;34m,\u001b[0m \u001b[0mbaseName\u001b[0m\u001b[0;34m,\u001b[0m \u001b[0mclassName\u001b[0m\u001b[0;34m,\u001b[0m \u001b[0minteractive\u001b[0m\u001b[0;34m,\u001b[0m \u001b[0mwantobjects\u001b[0m\u001b[0;34m,\u001b[0m \u001b[0museTk\u001b[0m\u001b[0;34m,\u001b[0m \u001b[0msync\u001b[0m\u001b[0;34m,\u001b[0m \u001b[0muse\u001b[0m\u001b[0;34m)\u001b[0m\u001b[0;34m\u001b[0m\u001b[0;34m\u001b[0m\u001b[0m\n\u001b[0m\u001b[1;32m   2024\u001b[0m         \u001b[0;32mif\u001b[0m \u001b[0museTk\u001b[0m\u001b[0;34m:\u001b[0m\u001b[0;34m\u001b[0m\u001b[0;34m\u001b[0m\u001b[0m\n\u001b[1;32m   2025\u001b[0m             \u001b[0mself\u001b[0m\u001b[0;34m.\u001b[0m\u001b[0m_loadtk\u001b[0m\u001b[0;34m(\u001b[0m\u001b[0;34m)\u001b[0m\u001b[0;34m\u001b[0m\u001b[0;34m\u001b[0m\u001b[0m\n",
            "\u001b[0;31mTclError\u001b[0m: no display name and no $DISPLAY environment variable"
          ]
        },
        {
          "output_type": "execute_result",
          "data": {
            "text/plain": [
              "Tree('S', [Tree('NP', [('Xi', 'NN')]), ('Jinping', 'NNP'), ('is', 'VBZ'), Tree('NP', [('a', 'DT'), ('Chinese', 'JJ'), ('politician', 'NN')]), ('who', 'WP'), ('has', 'VBZ'), ('served', 'VBN'), ('as', 'IN'), ('General', 'NNP'), ('Secretary', 'NNP'), ('of', 'IN'), ('the', 'DT'), ('Chinese', 'NNP'), ('Communist', 'NNP'), ('Party', 'NNP'), ('(', '('), ('CCP', 'NNP'), (')', ')'), ('and', 'CC'), ('Chairman', 'NNP'), ('of', 'IN'), ('the', 'DT'), ('Central', 'NNP'), ('Military', 'NNP'), ('Commission', 'NNP'), ('(', '('), ('CMC', 'NNP'), (')', ')'), ('since', 'IN'), ('2012', 'CD'), (',', ','), ('and', 'CC'), ('President', 'NNP'), ('of', 'IN'), ('the', 'DT'), ('People', 'NNP'), (\"'s\", 'POS'), ('Republic', 'NNP'), ('of', 'IN'), ('China', 'NNP'), ('(', '('), ('PRC', 'NNP'), (')', ')'), ('since', 'IN'), ('2013', 'CD'), ('.', '.'), ('He', 'PRP'), ('has', 'VBZ'), ('been', 'VBN'), Tree('NP', [('the', 'DT'), ('paramount', 'JJ'), ('leader', 'NN')]), ('of', 'IN'), ('China', 'NNP'), (',', ','), ('the', 'DT'), ('most', 'RBS'), Tree('NP', [('prominent', 'JJ'), ('political', 'JJ'), ('leader', 'NN')]), ('in', 'IN'), Tree('NP', [('the', 'DT'), ('country', 'NN')]), (',', ','), ('since', 'IN'), ('2012', 'CD'), ('.', '.'), Tree('NP', [('The', 'DT'), ('son', 'NN')]), ('of', 'IN'), ('Chinese', 'JJ'), ('Communist', 'NNP'), Tree('NP', [('veteran', 'NN')]), ('Xi', 'NNP'), ('Zhongxun', 'NNP'), (',', ','), ('he', 'PRP'), ('was', 'VBD'), ('exiled', 'VBN'), ('to', 'TO'), ('rural', 'JJ'), ('Yanchuan', 'NNP'), ('County', 'NNP'), ('as', 'IN'), Tree('NP', [('a', 'DT'), ('teenager', 'NN')]), ('following', 'VBG'), ('his', 'PRP$'), Tree('NP', [('father', 'NN')]), (\"'s\", 'POS'), Tree('NP', [('purge', 'NN')]), ('during', 'IN'), ('the', 'DT'), ('Cultural', 'JJ'), ('Revolution', 'NNP'), ('and', 'CC'), ('lived', 'VBN'), ('in', 'IN'), Tree('NP', [('a', 'DT'), ('cave', 'NN')]), ('in', 'IN'), Tree('NP', [('the', 'DT'), ('village', 'NN')]), ('of', 'IN'), ('Liangjiahe', 'NNP'), (',', ','), ('where', 'WRB'), ('he', 'PRP'), ('joined', 'VBD'), ('the', 'DT'), ('CCP', 'NNP'), ('and', 'CC'), ('worked', 'VBD'), ('as', 'IN'), Tree('NP', [('the', 'DT'), ('party', 'NN')]), Tree('NP', [('secretary', 'NN')]), ('.', '.')])"
            ]
          },
          "metadata": {
            "tags": []
          },
          "execution_count": 3
        }
      ]
    }
  ]
}