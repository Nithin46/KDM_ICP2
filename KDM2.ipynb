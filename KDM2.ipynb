{
  "nbformat": 4,
  "nbformat_minor": 0,
  "metadata": {
    "colab": {
      "name": "KDM2.ipynb",
      "provenance": [],
      "authorship_tag": "ABX9TyOpB1BovPvouQ31a1b+FQHp",
      "include_colab_link": true
    },
    "kernelspec": {
      "name": "python3",
      "display_name": "Python 3"
    }
  },
  "cells": [
    {
      "cell_type": "markdown",
      "metadata": {
        "id": "view-in-github",
        "colab_type": "text"
      },
      "source": [
        "<a href=\"https://colab.research.google.com/github/Nithin46/KDM_ICP2/blob/main/KDM2.ipynb\" target=\"_parent\"><img src=\"https://colab.research.google.com/assets/colab-badge.svg\" alt=\"Open In Colab\"/></a>"
      ]
    },
    {
      "cell_type": "markdown",
      "metadata": {
        "id": "2ctkXyehoc7S"
      },
      "source": [
        "# **Part of Speech (POS) Tagging**"
      ]
    },
    {
      "cell_type": "code",
      "metadata": {
        "colab": {
          "base_uri": "https://localhost:8080/"
        },
        "id": "0kM-7GdIn_zH",
        "outputId": "65b3d73b-e077-4841-964d-2709a19ffde0"
      },
      "source": [
        "import spacy\r\n",
        "sp = spacy.load('en_core_web_sm')\r\n",
        "data = sp(\"Xi Jinping is a Chinese politician who has served as General Secretary of the Chinese Communist Party (CCP) and Chairman of the Central Military Commission (CMC) since 2012, and President of the People's Republic of China (PRC) since 2013. He has been the paramount leader of China, the most prominent political leader in the country, since 2012. The son of Chinese Communist veteran Xi Zhongxun, he was exiled to rural Yanchuan County as a teenager following his father's purge during the Cultural Revolution and lived in a cave in the village of Liangjiahe, where he joined the CCP and worked as the party secretary.\")\r\n",
        "for word in data:\r\n",
        "    print(f'{word.text:{12}} {word.pos_:{10}} {word.tag_:{8}} {spacy.explain(word.tag_)}')"
      ],
      "execution_count": 1,
      "outputs": [
        {
          "output_type": "stream",
          "text": [
            "Xi           PROPN      NNP      noun, proper singular\n",
            "Jinping      PROPN      NNP      noun, proper singular\n",
            "is           AUX        VBZ      verb, 3rd person singular present\n",
            "a            DET        DT       determiner\n",
            "Chinese      ADJ        JJ       adjective\n",
            "politician   NOUN       NN       noun, singular or mass\n",
            "who          PRON       WP       wh-pronoun, personal\n",
            "has          AUX        VBZ      verb, 3rd person singular present\n",
            "served       VERB       VBN      verb, past participle\n",
            "as           SCONJ      IN       conjunction, subordinating or preposition\n",
            "General      PROPN      NNP      noun, proper singular\n",
            "Secretary    PROPN      NNP      noun, proper singular\n",
            "of           ADP        IN       conjunction, subordinating or preposition\n",
            "the          DET        DT       determiner\n",
            "Chinese      PROPN      NNP      noun, proper singular\n",
            "Communist    PROPN      NNP      noun, proper singular\n",
            "Party        PROPN      NNP      noun, proper singular\n",
            "(            PUNCT      -LRB-    left round bracket\n",
            "CCP          PROPN      NNP      noun, proper singular\n",
            ")            PUNCT      -RRB-    right round bracket\n",
            "and          CCONJ      CC       conjunction, coordinating\n",
            "Chairman     PROPN      NNP      noun, proper singular\n",
            "of           ADP        IN       conjunction, subordinating or preposition\n",
            "the          DET        DT       determiner\n",
            "Central      PROPN      NNP      noun, proper singular\n",
            "Military     PROPN      NNP      noun, proper singular\n",
            "Commission   PROPN      NNP      noun, proper singular\n",
            "(            PUNCT      -LRB-    left round bracket\n",
            "CMC          PROPN      NNP      noun, proper singular\n",
            ")            PUNCT      -RRB-    right round bracket\n",
            "since        SCONJ      IN       conjunction, subordinating or preposition\n",
            "2012         NUM        CD       cardinal number\n",
            ",            PUNCT      ,        punctuation mark, comma\n",
            "and          CCONJ      CC       conjunction, coordinating\n",
            "President    PROPN      NNP      noun, proper singular\n",
            "of           ADP        IN       conjunction, subordinating or preposition\n",
            "the          DET        DT       determiner\n",
            "People       PROPN      NNPS     noun, proper plural\n",
            "'s           PART       POS      possessive ending\n",
            "Republic     PROPN      NNP      noun, proper singular\n",
            "of           ADP        IN       conjunction, subordinating or preposition\n",
            "China        PROPN      NNP      noun, proper singular\n",
            "(            PUNCT      -LRB-    left round bracket\n",
            "PRC          PROPN      NNP      noun, proper singular\n",
            ")            PUNCT      -RRB-    right round bracket\n",
            "since        SCONJ      IN       conjunction, subordinating or preposition\n",
            "2013         NUM        CD       cardinal number\n",
            ".            PUNCT      .        punctuation mark, sentence closer\n",
            "He           PRON       PRP      pronoun, personal\n",
            "has          AUX        VBZ      verb, 3rd person singular present\n",
            "been         AUX        VBN      verb, past participle\n",
            "the          DET        DT       determiner\n",
            "paramount    ADJ        JJ       adjective\n",
            "leader       NOUN       NN       noun, singular or mass\n",
            "of           ADP        IN       conjunction, subordinating or preposition\n",
            "China        PROPN      NNP      noun, proper singular\n",
            ",            PUNCT      ,        punctuation mark, comma\n",
            "the          DET        DT       determiner\n",
            "most         ADV        RBS      adverb, superlative\n",
            "prominent    ADJ        JJ       adjective\n",
            "political    ADJ        JJ       adjective\n",
            "leader       NOUN       NN       noun, singular or mass\n",
            "in           ADP        IN       conjunction, subordinating or preposition\n",
            "the          DET        DT       determiner\n",
            "country      NOUN       NN       noun, singular or mass\n",
            ",            PUNCT      ,        punctuation mark, comma\n",
            "since        SCONJ      IN       conjunction, subordinating or preposition\n",
            "2012         NUM        CD       cardinal number\n",
            ".            PUNCT      .        punctuation mark, sentence closer\n",
            "The          DET        DT       determiner\n",
            "son          NOUN       NN       noun, singular or mass\n",
            "of           ADP        IN       conjunction, subordinating or preposition\n",
            "Chinese      PROPN      NNP      noun, proper singular\n",
            "Communist    ADJ        JJ       adjective\n",
            "veteran      NOUN       NN       noun, singular or mass\n",
            "Xi           PROPN      NNP      noun, proper singular\n",
            "Zhongxun     PROPN      NNP      noun, proper singular\n",
            ",            PUNCT      ,        punctuation mark, comma\n",
            "he           PRON       PRP      pronoun, personal\n",
            "was          AUX        VBD      verb, past tense\n",
            "exiled       VERB       VBN      verb, past participle\n",
            "to           ADP        IN       conjunction, subordinating or preposition\n",
            "rural        ADJ        JJ       adjective\n",
            "Yanchuan     PROPN      NNP      noun, proper singular\n",
            "County       PROPN      NNP      noun, proper singular\n",
            "as           SCONJ      IN       conjunction, subordinating or preposition\n",
            "a            DET        DT       determiner\n",
            "teenager     NOUN       NN       noun, singular or mass\n",
            "following    VERB       VBG      verb, gerund or present participle\n",
            "his          DET        PRP$     pronoun, possessive\n",
            "father       NOUN       NN       noun, singular or mass\n",
            "'s           PART       POS      possessive ending\n",
            "purge        NOUN       NN       noun, singular or mass\n",
            "during       ADP        IN       conjunction, subordinating or preposition\n",
            "the          DET        DT       determiner\n",
            "Cultural     PROPN      NNP      noun, proper singular\n",
            "Revolution   PROPN      NNP      noun, proper singular\n",
            "and          CCONJ      CC       conjunction, coordinating\n",
            "lived        VERB       VBD      verb, past tense\n",
            "in           ADP        IN       conjunction, subordinating or preposition\n",
            "a            DET        DT       determiner\n",
            "cave         NOUN       NN       noun, singular or mass\n",
            "in           ADP        IN       conjunction, subordinating or preposition\n",
            "the          DET        DT       determiner\n",
            "village      NOUN       NN       noun, singular or mass\n",
            "of           ADP        IN       conjunction, subordinating or preposition\n",
            "Liangjiahe   PROPN      NNP      noun, proper singular\n",
            ",            PUNCT      ,        punctuation mark, comma\n",
            "where        ADV        WRB      wh-adverb\n",
            "he           PRON       PRP      pronoun, personal\n",
            "joined       VERB       VBD      verb, past tense\n",
            "the          DET        DT       determiner\n",
            "CCP          PROPN      NNP      noun, proper singular\n",
            "and          CCONJ      CC       conjunction, coordinating\n",
            "worked       VERB       VBD      verb, past tense\n",
            "as           SCONJ      IN       conjunction, subordinating or preposition\n",
            "the          DET        DT       determiner\n",
            "party        NOUN       NN       noun, singular or mass\n",
            "secretary    NOUN       NN       noun, singular or mass\n",
            ".            PUNCT      .        punctuation mark, sentence closer\n"
          ],
          "name": "stdout"
        }
      ]
    },
    {
      "cell_type": "markdown",
      "metadata": {
        "id": "nfxWnLP0oaVP"
      },
      "source": [
        "# **Named entity recognizer (NER)**"
      ]
    },
    {
      "cell_type": "code",
      "metadata": {
        "colab": {
          "base_uri": "https://localhost:8080/",
          "height": 192
        },
        "id": "bEJhbJydo3AU",
        "outputId": "759a7b8a-3be6-48a2-8512-9792f4b305c1"
      },
      "source": [
        "import spacy\r\n",
        "from spacy import displacy\r\n",
        "nlp = spacy.load('en_core_web_sm')\r\n",
        "text = nlp (\"Xi Jinping is a Chinese politician who has served as General Secretary of the Chinese Communist Party (CCP) and Chairman of the Central Military Commission (CMC) since 2012, and President of the People's Republic of China (PRC) since 2013. He has been the paramount leader of China, the most prominent political leader in the country, since 2012. The son of Chinese Communist veteran Xi Zhongxun, he was exiled to rural Yanchuan County as a teenager following his father's purge during the Cultural Revolution and lived in a cave in the village of Liangjiahe, where he joined the CCP and worked as the party secretary.\")\r\n",
        "displacy.render(text, style = 'ent', jupyter=True)"
      ],
      "execution_count": 2,
      "outputs": [
        {
          "output_type": "display_data",
          "data": {
            "text/html": [
              "<span class=\"tex2jax_ignore\"><div class=\"entities\" style=\"line-height: 2.5; direction: ltr\">\n",
              "<mark class=\"entity\" style=\"background: #aa9cfc; padding: 0.45em 0.6em; margin: 0 0.25em; line-height: 1; border-radius: 0.35em;\">\n",
              "    Xi Jinping\n",
              "    <span style=\"font-size: 0.8em; font-weight: bold; line-height: 1; border-radius: 0.35em; text-transform: uppercase; vertical-align: middle; margin-left: 0.5rem\">PERSON</span>\n",
              "</mark>\n",
              " is a \n",
              "<mark class=\"entity\" style=\"background: #c887fb; padding: 0.45em 0.6em; margin: 0 0.25em; line-height: 1; border-radius: 0.35em;\">\n",
              "    Chinese\n",
              "    <span style=\"font-size: 0.8em; font-weight: bold; line-height: 1; border-radius: 0.35em; text-transform: uppercase; vertical-align: middle; margin-left: 0.5rem\">NORP</span>\n",
              "</mark>\n",
              " politician who has served as General Secretary of \n",
              "<mark class=\"entity\" style=\"background: #7aecec; padding: 0.45em 0.6em; margin: 0 0.25em; line-height: 1; border-radius: 0.35em;\">\n",
              "    the Chinese Communist Party\n",
              "    <span style=\"font-size: 0.8em; font-weight: bold; line-height: 1; border-radius: 0.35em; text-transform: uppercase; vertical-align: middle; margin-left: 0.5rem\">ORG</span>\n",
              "</mark>\n",
              " (\n",
              "<mark class=\"entity\" style=\"background: #7aecec; padding: 0.45em 0.6em; margin: 0 0.25em; line-height: 1; border-radius: 0.35em;\">\n",
              "    CCP\n",
              "    <span style=\"font-size: 0.8em; font-weight: bold; line-height: 1; border-radius: 0.35em; text-transform: uppercase; vertical-align: middle; margin-left: 0.5rem\">ORG</span>\n",
              "</mark>\n",
              ") and Chairman of \n",
              "<mark class=\"entity\" style=\"background: #7aecec; padding: 0.45em 0.6em; margin: 0 0.25em; line-height: 1; border-radius: 0.35em;\">\n",
              "    the Central Military Commission\n",
              "    <span style=\"font-size: 0.8em; font-weight: bold; line-height: 1; border-radius: 0.35em; text-transform: uppercase; vertical-align: middle; margin-left: 0.5rem\">ORG</span>\n",
              "</mark>\n",
              " (CMC) since \n",
              "<mark class=\"entity\" style=\"background: #bfe1d9; padding: 0.45em 0.6em; margin: 0 0.25em; line-height: 1; border-radius: 0.35em;\">\n",
              "    2012\n",
              "    <span style=\"font-size: 0.8em; font-weight: bold; line-height: 1; border-radius: 0.35em; text-transform: uppercase; vertical-align: middle; margin-left: 0.5rem\">DATE</span>\n",
              "</mark>\n",
              ", and President of \n",
              "<mark class=\"entity\" style=\"background: #feca74; padding: 0.45em 0.6em; margin: 0 0.25em; line-height: 1; border-radius: 0.35em;\">\n",
              "    the People's Republic of China\n",
              "    <span style=\"font-size: 0.8em; font-weight: bold; line-height: 1; border-radius: 0.35em; text-transform: uppercase; vertical-align: middle; margin-left: 0.5rem\">GPE</span>\n",
              "</mark>\n",
              " (\n",
              "<mark class=\"entity\" style=\"background: #feca74; padding: 0.45em 0.6em; margin: 0 0.25em; line-height: 1; border-radius: 0.35em;\">\n",
              "    PRC\n",
              "    <span style=\"font-size: 0.8em; font-weight: bold; line-height: 1; border-radius: 0.35em; text-transform: uppercase; vertical-align: middle; margin-left: 0.5rem\">GPE</span>\n",
              "</mark>\n",
              ") since \n",
              "<mark class=\"entity\" style=\"background: #bfe1d9; padding: 0.45em 0.6em; margin: 0 0.25em; line-height: 1; border-radius: 0.35em;\">\n",
              "    2013\n",
              "    <span style=\"font-size: 0.8em; font-weight: bold; line-height: 1; border-radius: 0.35em; text-transform: uppercase; vertical-align: middle; margin-left: 0.5rem\">DATE</span>\n",
              "</mark>\n",
              ". He has been the paramount leader of \n",
              "<mark class=\"entity\" style=\"background: #feca74; padding: 0.45em 0.6em; margin: 0 0.25em; line-height: 1; border-radius: 0.35em;\">\n",
              "    China\n",
              "    <span style=\"font-size: 0.8em; font-weight: bold; line-height: 1; border-radius: 0.35em; text-transform: uppercase; vertical-align: middle; margin-left: 0.5rem\">GPE</span>\n",
              "</mark>\n",
              ", the most prominent political leader in the country, since \n",
              "<mark class=\"entity\" style=\"background: #bfe1d9; padding: 0.45em 0.6em; margin: 0 0.25em; line-height: 1; border-radius: 0.35em;\">\n",
              "    2012\n",
              "    <span style=\"font-size: 0.8em; font-weight: bold; line-height: 1; border-radius: 0.35em; text-transform: uppercase; vertical-align: middle; margin-left: 0.5rem\">DATE</span>\n",
              "</mark>\n",
              ". The son of \n",
              "<mark class=\"entity\" style=\"background: #c887fb; padding: 0.45em 0.6em; margin: 0 0.25em; line-height: 1; border-radius: 0.35em;\">\n",
              "    Chinese\n",
              "    <span style=\"font-size: 0.8em; font-weight: bold; line-height: 1; border-radius: 0.35em; text-transform: uppercase; vertical-align: middle; margin-left: 0.5rem\">NORP</span>\n",
              "</mark>\n",
              " \n",
              "<mark class=\"entity\" style=\"background: #c887fb; padding: 0.45em 0.6em; margin: 0 0.25em; line-height: 1; border-radius: 0.35em;\">\n",
              "    Communist\n",
              "    <span style=\"font-size: 0.8em; font-weight: bold; line-height: 1; border-radius: 0.35em; text-transform: uppercase; vertical-align: middle; margin-left: 0.5rem\">NORP</span>\n",
              "</mark>\n",
              " veteran \n",
              "<mark class=\"entity\" style=\"background: #aa9cfc; padding: 0.45em 0.6em; margin: 0 0.25em; line-height: 1; border-radius: 0.35em;\">\n",
              "    Xi Zhongxun\n",
              "    <span style=\"font-size: 0.8em; font-weight: bold; line-height: 1; border-radius: 0.35em; text-transform: uppercase; vertical-align: middle; margin-left: 0.5rem\">PERSON</span>\n",
              "</mark>\n",
              ", he was exiled to rural \n",
              "<mark class=\"entity\" style=\"background: #feca74; padding: 0.45em 0.6em; margin: 0 0.25em; line-height: 1; border-radius: 0.35em;\">\n",
              "    Yanchuan County\n",
              "    <span style=\"font-size: 0.8em; font-weight: bold; line-height: 1; border-radius: 0.35em; text-transform: uppercase; vertical-align: middle; margin-left: 0.5rem\">GPE</span>\n",
              "</mark>\n",
              " as a teenager following his father's purge during \n",
              "<mark class=\"entity\" style=\"background: #ffeb80; padding: 0.45em 0.6em; margin: 0 0.25em; line-height: 1; border-radius: 0.35em;\">\n",
              "    the Cultural Revolution\n",
              "    <span style=\"font-size: 0.8em; font-weight: bold; line-height: 1; border-radius: 0.35em; text-transform: uppercase; vertical-align: middle; margin-left: 0.5rem\">EVENT</span>\n",
              "</mark>\n",
              " and lived in a cave in the village of \n",
              "<mark class=\"entity\" style=\"background: #feca74; padding: 0.45em 0.6em; margin: 0 0.25em; line-height: 1; border-radius: 0.35em;\">\n",
              "    Liangjiahe\n",
              "    <span style=\"font-size: 0.8em; font-weight: bold; line-height: 1; border-radius: 0.35em; text-transform: uppercase; vertical-align: middle; margin-left: 0.5rem\">GPE</span>\n",
              "</mark>\n",
              ", where he joined the \n",
              "<mark class=\"entity\" style=\"background: #7aecec; padding: 0.45em 0.6em; margin: 0 0.25em; line-height: 1; border-radius: 0.35em;\">\n",
              "    CCP\n",
              "    <span style=\"font-size: 0.8em; font-weight: bold; line-height: 1; border-radius: 0.35em; text-transform: uppercase; vertical-align: middle; margin-left: 0.5rem\">ORG</span>\n",
              "</mark>\n",
              " and worked as the party secretary.</div></span>"
            ],
            "text/plain": [
              "<IPython.core.display.HTML object>"
            ]
          },
          "metadata": {
            "tags": []
          }
        }
      ]
    }
  ]
}